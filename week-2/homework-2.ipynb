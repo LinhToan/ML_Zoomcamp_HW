{
 "cells": [
  {
   "cell_type": "code",
   "execution_count": 1,
   "id": "80228073",
   "metadata": {},
   "outputs": [],
   "source": [
    "import pandas as pd\n",
    "import numpy as np\n",
    "import seaborn as sns"
   ]
  },
  {
   "cell_type": "markdown",
   "id": "e2179937",
   "metadata": {},
   "source": [
    "# EDA (Exploratory Data Analysis)\n",
    "#### First we will load in a CSV from Kaggle on the California Housing Prices, then see if the median_house_value variable has a long tail."
   ]
  },
  {
   "cell_type": "code",
   "execution_count": 2,
   "id": "eade1791",
   "metadata": {},
   "outputs": [
    {
     "data": {
      "text/html": [
       "<div>\n",
       "<style scoped>\n",
       "    .dataframe tbody tr th:only-of-type {\n",
       "        vertical-align: middle;\n",
       "    }\n",
       "\n",
       "    .dataframe tbody tr th {\n",
       "        vertical-align: top;\n",
       "    }\n",
       "\n",
       "    .dataframe thead th {\n",
       "        text-align: right;\n",
       "    }\n",
       "</style>\n",
       "<table border=\"1\" class=\"dataframe\">\n",
       "  <thead>\n",
       "    <tr style=\"text-align: right;\">\n",
       "      <th></th>\n",
       "      <th>longitude</th>\n",
       "      <th>latitude</th>\n",
       "      <th>housing_median_age</th>\n",
       "      <th>total_rooms</th>\n",
       "      <th>total_bedrooms</th>\n",
       "      <th>population</th>\n",
       "      <th>households</th>\n",
       "      <th>median_income</th>\n",
       "      <th>median_house_value</th>\n",
       "      <th>ocean_proximity</th>\n",
       "    </tr>\n",
       "  </thead>\n",
       "  <tbody>\n",
       "    <tr>\n",
       "      <th>0</th>\n",
       "      <td>-122.23</td>\n",
       "      <td>37.88</td>\n",
       "      <td>41.0</td>\n",
       "      <td>880.0</td>\n",
       "      <td>129.0</td>\n",
       "      <td>322.0</td>\n",
       "      <td>126.0</td>\n",
       "      <td>8.3252</td>\n",
       "      <td>452600.0</td>\n",
       "      <td>NEAR BAY</td>\n",
       "    </tr>\n",
       "    <tr>\n",
       "      <th>1</th>\n",
       "      <td>-122.22</td>\n",
       "      <td>37.86</td>\n",
       "      <td>21.0</td>\n",
       "      <td>7099.0</td>\n",
       "      <td>1106.0</td>\n",
       "      <td>2401.0</td>\n",
       "      <td>1138.0</td>\n",
       "      <td>8.3014</td>\n",
       "      <td>358500.0</td>\n",
       "      <td>NEAR BAY</td>\n",
       "    </tr>\n",
       "    <tr>\n",
       "      <th>2</th>\n",
       "      <td>-122.24</td>\n",
       "      <td>37.85</td>\n",
       "      <td>52.0</td>\n",
       "      <td>1467.0</td>\n",
       "      <td>190.0</td>\n",
       "      <td>496.0</td>\n",
       "      <td>177.0</td>\n",
       "      <td>7.2574</td>\n",
       "      <td>352100.0</td>\n",
       "      <td>NEAR BAY</td>\n",
       "    </tr>\n",
       "    <tr>\n",
       "      <th>3</th>\n",
       "      <td>-122.25</td>\n",
       "      <td>37.85</td>\n",
       "      <td>52.0</td>\n",
       "      <td>1274.0</td>\n",
       "      <td>235.0</td>\n",
       "      <td>558.0</td>\n",
       "      <td>219.0</td>\n",
       "      <td>5.6431</td>\n",
       "      <td>341300.0</td>\n",
       "      <td>NEAR BAY</td>\n",
       "    </tr>\n",
       "    <tr>\n",
       "      <th>4</th>\n",
       "      <td>-122.25</td>\n",
       "      <td>37.85</td>\n",
       "      <td>52.0</td>\n",
       "      <td>1627.0</td>\n",
       "      <td>280.0</td>\n",
       "      <td>565.0</td>\n",
       "      <td>259.0</td>\n",
       "      <td>3.8462</td>\n",
       "      <td>342200.0</td>\n",
       "      <td>NEAR BAY</td>\n",
       "    </tr>\n",
       "  </tbody>\n",
       "</table>\n",
       "</div>"
      ],
      "text/plain": [
       "   longitude  latitude  housing_median_age  total_rooms  total_bedrooms  \\\n",
       "0    -122.23     37.88                41.0        880.0           129.0   \n",
       "1    -122.22     37.86                21.0       7099.0          1106.0   \n",
       "2    -122.24     37.85                52.0       1467.0           190.0   \n",
       "3    -122.25     37.85                52.0       1274.0           235.0   \n",
       "4    -122.25     37.85                52.0       1627.0           280.0   \n",
       "\n",
       "   population  households  median_income  median_house_value ocean_proximity  \n",
       "0       322.0       126.0         8.3252            452600.0        NEAR BAY  \n",
       "1      2401.0      1138.0         8.3014            358500.0        NEAR BAY  \n",
       "2       496.0       177.0         7.2574            352100.0        NEAR BAY  \n",
       "3       558.0       219.0         5.6431            341300.0        NEAR BAY  \n",
       "4       565.0       259.0         3.8462            342200.0        NEAR BAY  "
      ]
     },
     "execution_count": 2,
     "metadata": {},
     "output_type": "execute_result"
    }
   ],
   "source": [
    "df = pd.read_csv(r'C:\\Users\\l676907\\OneDrive - Cargill Inc\\Desktop\\ML_Zoomcamp\\week-2\\housing.csv')\n",
    "df.head()"
   ]
  },
  {
   "cell_type": "markdown",
   "id": "d363d743",
   "metadata": {},
   "source": [
    "#### It turns out the median_house_value does inded have a long tail."
   ]
  },
  {
   "cell_type": "code",
   "execution_count": 3,
   "id": "fd2e8481",
   "metadata": {},
   "outputs": [
    {
     "data": {
      "text/plain": [
       "<AxesSubplot:xlabel='median_house_value', ylabel='Count'>"
      ]
     },
     "execution_count": 3,
     "metadata": {},
     "output_type": "execute_result"
    },
    {
     "data": {
      "image/png": "[encoded data removed]",
      "text/plain": [
       "<Figure size 432x288 with 1 Axes>"
      ]
     },
     "metadata": {
      "needs_background": "light"
     },
     "output_type": "display_data"
    }
   ],
   "source": [
    "sns.histplot(df.median_house_value)"
   ]
  },
  {
   "cell_type": "markdown",
   "id": "3d159df8",
   "metadata": {},
   "source": [
    "# Features\n",
    "#### We will only need the following columns: longitude, latitude, housing_median_age, total_rooms, total_bedrooms, population, households, median_income, median_house_value"
   ]
  },
  {
   "cell_type": "code",
   "execution_count": 4,
   "id": "aa10522a",
   "metadata": {},
   "outputs": [
    {
     "data": {
      "text/html": [
       "<div>\n",
       "<style scoped>\n",
       "    .dataframe tbody tr th:only-of-type {\n",
       "        vertical-align: middle;\n",
       "    }\n",
       "\n",
       "    .dataframe tbody tr th {\n",
       "        vertical-align: top;\n",
       "    }\n",
       "\n",
       "    .dataframe thead th {\n",
       "        text-align: right;\n",
       "    }\n",
       "</style>\n",
       "<table border=\"1\" class=\"dataframe\">\n",
       "  <thead>\n",
       "    <tr style=\"text-align: right;\">\n",
       "      <th></th>\n",
       "      <th>longitude</th>\n",
       "      <th>latitude</th>\n",
       "      <th>housing_median_age</th>\n",
       "      <th>total_rooms</th>\n",
       "      <th>total_bedrooms</th>\n",
       "      <th>population</th>\n",
       "      <th>households</th>\n",
       "      <th>median_income</th>\n",
       "      <th>median_house_value</th>\n",
       "    </tr>\n",
       "  </thead>\n",
       "  <tbody>\n",
       "    <tr>\n",
       "      <th>0</th>\n",
       "      <td>-122.23</td>\n",
       "      <td>37.88</td>\n",
       "      <td>41.0</td>\n",
       "      <td>880.0</td>\n",
       "      <td>129.0</td>\n",
       "      <td>322.0</td>\n",
       "      <td>126.0</td>\n",
       "      <td>8.3252</td>\n",
       "      <td>452600.0</td>\n",
       "    </tr>\n",
       "    <tr>\n",
       "      <th>1</th>\n",
       "      <td>-122.22</td>\n",
       "      <td>37.86</td>\n",
       "      <td>21.0</td>\n",
       "      <td>7099.0</td>\n",
       "      <td>1106.0</td>\n",
       "      <td>2401.0</td>\n",
       "      <td>1138.0</td>\n",
       "      <td>8.3014</td>\n",
       "      <td>358500.0</td>\n",
       "    </tr>\n",
       "    <tr>\n",
       "      <th>2</th>\n",
       "      <td>-122.24</td>\n",
       "      <td>37.85</td>\n",
       "      <td>52.0</td>\n",
       "      <td>1467.0</td>\n",
       "      <td>190.0</td>\n",
       "      <td>496.0</td>\n",
       "      <td>177.0</td>\n",
       "      <td>7.2574</td>\n",
       "      <td>352100.0</td>\n",
       "    </tr>\n",
       "    <tr>\n",
       "      <th>3</th>\n",
       "      <td>-122.25</td>\n",
       "      <td>37.85</td>\n",
       "      <td>52.0</td>\n",
       "      <td>1274.0</td>\n",
       "      <td>235.0</td>\n",
       "      <td>558.0</td>\n",
       "      <td>219.0</td>\n",
       "      <td>5.6431</td>\n",
       "      <td>341300.0</td>\n",
       "    </tr>\n",
       "    <tr>\n",
       "      <th>4</th>\n",
       "      <td>-122.25</td>\n",
       "      <td>37.85</td>\n",
       "      <td>52.0</td>\n",
       "      <td>1627.0</td>\n",
       "      <td>280.0</td>\n",
       "      <td>565.0</td>\n",
       "      <td>259.0</td>\n",
       "      <td>3.8462</td>\n",
       "      <td>342200.0</td>\n",
       "    </tr>\n",
       "  </tbody>\n",
       "</table>\n",
       "</div>"
      ],
      "text/plain": [
       "   longitude  latitude  housing_median_age  total_rooms  total_bedrooms  \\\n",
       "0    -122.23     37.88                41.0        880.0           129.0   \n",
       "1    -122.22     37.86                21.0       7099.0          1106.0   \n",
       "2    -122.24     37.85                52.0       1467.0           190.0   \n",
       "3    -122.25     37.85                52.0       1274.0           235.0   \n",
       "4    -122.25     37.85                52.0       1627.0           280.0   \n",
       "\n",
       "   population  households  median_income  median_house_value  \n",
       "0       322.0       126.0         8.3252            452600.0  \n",
       "1      2401.0      1138.0         8.3014            358500.0  \n",
       "2       496.0       177.0         7.2574            352100.0  \n",
       "3       558.0       219.0         5.6431            341300.0  \n",
       "4       565.0       259.0         3.8462            342200.0  "
      ]
     },
     "execution_count": 4,
     "metadata": {},
     "output_type": "execute_result"
    }
   ],
   "source": [
    "base = ['longitude', 'latitude', 'housing_median_age', 'total_rooms', 'total_bedrooms', 'population', 'households', 'median_income', 'median_house_value']\n",
    "df = df[base]\n",
    "df.head()"
   ]
  },
  {
   "cell_type": "markdown",
   "id": "c1c68046",
   "metadata": {},
   "source": [
    "# Quesiton 1\n",
    "#### Find a feature with missing values. How many missing values does it have?\n",
    "\n",
    "#### Below we see the total_bedrooms feature is the only feature with missing values and it has 207 missing values."
   ]
  },
  {
   "cell_type": "code",
   "execution_count": 5,
   "id": "8c43b8ac",
   "metadata": {},
   "outputs": [
    {
     "data": {
      "text/plain": [
       "longitude               0\n",
       "latitude                0\n",
       "housing_median_age      0\n",
       "total_rooms             0\n",
       "total_bedrooms        207\n",
       "population              0\n",
       "households              0\n",
       "median_income           0\n",
       "median_house_value      0\n",
       "dtype: int64"
      ]
     },
     "execution_count": 5,
     "metadata": {},
     "output_type": "execute_result"
    }
   ],
   "source": [
    "df.isnull().sum()"
   ]
  },
  {
   "cell_type": "markdown",
   "id": "558a3961",
   "metadata": {},
   "source": [
    "# Question 2\n",
    "#### What's the median for the variable 'population'?\n",
    "#### Below we see the median for the 'population' feature is 1,166"
   ]
  },
  {
   "cell_type": "code",
   "execution_count": 6,
   "id": "be83c8ea",
   "metadata": {},
   "outputs": [
    {
     "data": {
      "text/plain": [
       "1166.0"
      ]
     },
     "execution_count": 6,
     "metadata": {},
     "output_type": "execute_result"
    }
   ],
   "source": [
    "df.population.median()"
   ]
  },
  {
   "cell_type": "markdown",
   "id": "100aaf1e",
   "metadata": {},
   "source": [
    "# Split the data\n",
    "- #### Shuffle the initial dataset using seed 42.\n",
    "- #### Split your data into training/validation/testing sets, with a distribution of 60/20/20.\n",
    "- #### Make sure that the target value (median_house_value) is not in your dataframe.\n",
    "- #### Apply the log transformation to the median_house_value variable using the '.np.log1p()' function"
   ]
  },
  {
   "cell_type": "code",
   "execution_count": 7,
   "id": "a7db2154",
   "metadata": {},
   "outputs": [],
   "source": [
    "# Create split for training, validation, testing distribution.\n",
    "n = len(df)\n",
    "\n",
    "n_val = int(n * 0.2)\n",
    "n_test = int(n * 0.2)\n",
    "n_train = n - n_val - n_test"
   ]
  },
  {
   "cell_type": "code",
   "execution_count": 8,
   "id": "34800bba",
   "metadata": {},
   "outputs": [],
   "source": [
    "# Create variables to shuffle data set, using seed = 42.\n",
    "idx = np.arange(n)\n",
    "np.random.seed(42)\n",
    "np.random.shuffle(idx)"
   ]
  },
  {
   "cell_type": "code",
   "execution_count": 9,
   "id": "00d99b60",
   "metadata": {},
   "outputs": [],
   "source": [
    "# Split the original dataset into training, validation, and testing sets.\n",
    "df_train = df.iloc[idx[:n_train]]\n",
    "df_val = df.iloc[idx[n_train:n_train + n_val]]\n",
    "df_test = df.iloc[idx[n_train + n_val:]]"
   ]
  },
  {
   "cell_type": "code",
   "execution_count": 10,
   "id": "627005cd",
   "metadata": {},
   "outputs": [],
   "source": [
    "# Reset index for each data set.\n",
    "df_train = df_train.reset_index(drop=True)\n",
    "df_val = df_val.reset_index(drop=True)\n",
    "df_test = df_test.reset_index(drop=True)"
   ]
  },
  {
   "cell_type": "code",
   "execution_count": 11,
   "id": "0873f102",
   "metadata": {},
   "outputs": [],
   "source": [
    "# Create target variable for data sets.\n",
    "y_train = np.log1p(df_train.median_house_value.values)\n",
    "y_val = np.log1p(df_val.median_house_value.values)\n",
    "y_test = np.log1p(df_test.median_house_value.values)"
   ]
  },
  {
   "cell_type": "code",
   "execution_count": 12,
   "id": "3020d82a",
   "metadata": {},
   "outputs": [],
   "source": [
    "# Remove target variable from data sets.\n",
    "del df_train['median_house_value']\n",
    "del df_val['median_house_value']\n",
    "del df_test['median_house_value']"
   ]
  },
  {
   "cell_type": "markdown",
   "id": "064dc84d",
   "metadata": {},
   "source": [
    "# Question 3\n",
    "- #### We need to deal with missing values for the column from Q1.\n",
    "- #### We have two options: fill it with 0 or with the mean of this variable.\n",
    "- #### Try both options. For each, train a linear regression model without regularization using the code from the lessons.\n",
    "- #### For computing the mean, use the training data only!\n",
    "- #### Use the validation dataset to evaluate the models and compare the RMSE of each option.\n",
    "- #### Round the RMSE scores to 2 decimal places using 'round(score, 2)'\n",
    "- #### Which option gives better RMSE?"
   ]
  },
  {
   "cell_type": "markdown",
   "id": "844d177f",
   "metadata": {},
   "source": [
    "# Part 1: Fill missing values of total_bedrooms with 0\n",
    "#### First we will train a linear regression model on the dataset by filling in the missing values in the total_bedrooms column with 0."
   ]
  },
  {
   "cell_type": "code",
   "execution_count": 13,
   "id": "5e129b19",
   "metadata": {},
   "outputs": [],
   "source": [
    "def prepare_X(df, fill_nulls):\n",
    "    df_num = df\n",
    "    df_num = df_num.fillna(fill_nulls)\n",
    "    X = df_num.values\n",
    "    return X"
   ]
  },
  {
   "cell_type": "code",
   "execution_count": 14,
   "id": "9ae337c7",
   "metadata": {},
   "outputs": [],
   "source": [
    "# Linear regression function from lessons\n",
    "def train_lin_reg(X, y):\n",
    "    ones = np.ones(X.shape[0])\n",
    "    X = np.column_stack([ones, X])\n",
    "\n",
    "    XTX = X.T.dot(X)\n",
    "    XTX_inv = np.linalg.inv(XTX)\n",
    "    w = XTX_inv.dot(X.T).dot(y)\n",
    "    \n",
    "    return w[0], w[1:]"
   ]
  },
  {
   "cell_type": "code",
   "execution_count": 15,
   "id": "6cc3d871",
   "metadata": {},
   "outputs": [],
   "source": [
    "# Root mean squared error function from lessons\n",
    "def rmse(y, y_pred):\n",
    "    error = y - y_pred\n",
    "    se = error ** 2\n",
    "    mse = se.mean()\n",
    "    return np.sqrt(mse)"
   ]
  },
  {
   "cell_type": "code",
   "execution_count": 16,
   "id": "a535d550",
   "metadata": {},
   "outputs": [
    {
     "data": {
      "text/plain": [
       "0.32953303652286825"
      ]
     },
     "execution_count": 16,
     "metadata": {},
     "output_type": "execute_result"
    }
   ],
   "source": [
    "# Fill in missing values with 0 and train dataset\n",
    "df_train_zeroes = prepare_X(df_train, 0)\n",
    "w0_zeroes, w_zeroes = train_lin_reg(df_train_zeroes, y_train)\n",
    "\n",
    "# Validate dataset\n",
    "X_val_zeroes = prepare_X(df_val, 0)\n",
    "y_pred_zeroes = w0_zeroes + X_val_zeroes.dot(w_zeroes)\n",
    "\n",
    "# Compute root mean squared error\n",
    "rmse(y_val, y_pred_zeroes)"
   ]
  },
  {
   "cell_type": "markdown",
   "id": "6556c233",
   "metadata": {},
   "source": [
    "# Part 2: Fill in missing values with the mean value\n",
    "#### Now we will train a linear regression model on the dataset by filling in missing values in the total_bedrooms column with the mean value."
   ]
  },
  {
   "cell_type": "code",
   "execution_count": 17,
   "id": "21868ad6",
   "metadata": {},
   "outputs": [],
   "source": [
    "df_train_mean = prepare_X(df_train, df_train.total_bedrooms.mean())"
   ]
  },
  {
   "cell_type": "code",
   "execution_count": 18,
   "id": "f0a8a336",
   "metadata": {},
   "outputs": [
    {
     "data": {
      "text/plain": [
       "0.32953303652286825"
      ]
     },
     "execution_count": 18,
     "metadata": {},
     "output_type": "execute_result"
    }
   ],
   "source": [
    "# Fill in missing values with the mean of total_bedrooms and train dataset\n",
    "df_train_mean = prepare_X(df_train, 0)\n",
    "w0_mean, w_mean = train_lin_reg(df_train_mean, y_train)\n",
    "\n",
    "# Validate dataset\n",
    "X_val_mean = prepare_X(df_val, df_train.total_bedrooms.mean())\n",
    "y_pred_mean = w0_mean + X_val_mean.dot(w_mean)\n",
    "\n",
    "# Compute root mean squared error\n",
    "rmse(y_val, y_pred_mean)"
   ]
  },
  {
   "cell_type": "markdown",
   "id": "76a6f778",
   "metadata": {},
   "source": [
    "#### We see both methods of filling in missing values are equally valid."
   ]
  },
  {
   "cell_type": "markdown",
   "id": "4ab2a8a5",
   "metadata": {},
   "source": [
    "# Question 4\n",
    "- #### Now let's train a regularized linear regression.\n",
    "- #### For this question, fill the NA's with 0.\n",
    "- #### Try different values of r from this list: [0, 0.000001, 0.0001, 0.001, 0.01, 0.1, 1, 5, 10].\n",
    "- #### Use RMSE to evaluate the model on the validation dataset.\n",
    "- #### Round the RMSE scores to 2 decimal digits.\n",
    "- #### Which r gives the best RMSE?\n",
    "#### If there are multiple options, select the smallest r:\n",
    "- #### 0\n",
    "- #### 0.000001\n",
    "- #### 0.001\n",
    "- #### 0.0001"
   ]
  },
  {
   "cell_type": "code",
   "execution_count": 19,
   "id": "77675b78",
   "metadata": {},
   "outputs": [
    {
     "data": {
      "text/plain": [
       "array([[-1.1901e+02,  3.6060e+01,  2.5000e+01, ...,  1.3920e+03,\n",
       "         3.5900e+02,  1.6812e+00],\n",
       "       [-1.1946e+02,  3.5140e+01,  3.0000e+01, ...,  1.5650e+03,\n",
       "         5.8400e+02,  2.5313e+00],\n",
       "       [-1.2244e+02,  3.7800e+01,  5.2000e+01, ...,  1.3100e+03,\n",
       "         9.6300e+02,  3.4801e+00],\n",
       "       ...,\n",
       "       [-1.2091e+02,  3.8980e+01,  1.3000e+01, ...,  3.2640e+03,\n",
       "         1.1980e+03,  3.6530e+00],\n",
       "       [-1.1772e+02,  3.4090e+01,  3.6000e+01, ...,  7.8500e+02,\n",
       "         2.9900e+02,  3.2566e+00],\n",
       "       [-1.2247e+02,  3.7760e+01,  3.4000e+01, ...,  1.1520e+03,\n",
       "         4.4500e+02,  5.1893e+00]])"
      ]
     },
     "execution_count": 19,
     "metadata": {},
     "output_type": "execute_result"
    }
   ],
   "source": [
    "# This variable already has missing values filled in with 0.\n",
    "df_train_zeroes"
   ]
  },
  {
   "cell_type": "code",
   "execution_count": 20,
   "id": "4d0d38e0",
   "metadata": {},
   "outputs": [],
   "source": [
    "r_list = [0, 0.000001, 0.0001, 0.001, 0.01, 0.1, 1, 5, 10]"
   ]
  },
  {
   "cell_type": "code",
   "execution_count": 21,
   "id": "b7ec6917",
   "metadata": {},
   "outputs": [],
   "source": [
    "# Linear regression function with regularization from lessons\n",
    "def train_lin_reg_regularized(X, y, r):\n",
    "    ones = np.ones(X.shape[0])\n",
    "    X = np.column_stack([ones, X])\n",
    "\n",
    "    XTX = X.T.dot(X)\n",
    "    XTX = XTX + r * np.eye(XTX.shape[0])\n",
    "    XTX_inv = np.linalg.inv(XTX)\n",
    "    w = XTX_inv.dot(X.T).dot(y)\n",
    "    \n",
    "    return w[0], w[1:]"
   ]
  },
  {
   "cell_type": "code",
   "execution_count": 22,
   "id": "db4f6a4f",
   "metadata": {},
   "outputs": [],
   "source": [
    "def r_comparison():\n",
    "    compare = {}\n",
    "    df_train_zeroes = prepare_X(df_train, 0)\n",
    "    for r in r_list:\n",
    "        w0_zeroes, w_zeroes = train_lin_reg_regularized(df_train_zeroes, y_train, r)\n",
    "        X_val_zeroes = prepare_X(df_val, 0)\n",
    "        y_pred_zeroes = w0_zeroes + X_val_zeroes.dot(w_zeroes)\n",
    "        compare[r] = np.round(rmse(y_val, y_pred_zeroes), 2)\n",
    "\n",
    "    return compare"
   ]
  },
  {
   "cell_type": "code",
   "execution_count": 23,
   "id": "bf5efb09",
   "metadata": {},
   "outputs": [
    {
     "data": {
      "text/plain": [
       "{0: 0.33,\n",
       " 1e-06: 0.33,\n",
       " 0.0001: 0.33,\n",
       " 0.001: 0.33,\n",
       " 0.01: 0.33,\n",
       " 0.1: 0.33,\n",
       " 1: 0.33,\n",
       " 5: 0.34,\n",
       " 10: 0.34}"
      ]
     },
     "execution_count": 23,
     "metadata": {},
     "output_type": "execute_result"
    }
   ],
   "source": [
    "r_comparison()"
   ]
  },
  {
   "cell_type": "markdown",
   "id": "453d26b4",
   "metadata": {},
   "source": [
    "#### Out of the options above, we say 0 is the correct answer."
   ]
  },
  {
   "cell_type": "markdown",
   "id": "7b0c0693",
   "metadata": {},
   "source": [
    "# Question 5:\n",
    "- #### We used seed 42 for splitting the data. Let's find out how selecting the seed influences our score.\n",
    "- #### Try different seed values: [0, 1, 2, 3, 4, 5, 6, 7, 8, 9]\n",
    "- #### For each seed, do the train/validation/test split with 60%/20%/20% distribution.\n",
    "- #### Fill the missing values with 0 and train the model on the validation dataset and collect the RMSE scores.\n",
    "- #### What's the standard deviation of all the scores? To compute the standard deviation, use np.std.\n",
    "- #### Round the result to 3 decimal digits (round(std, 3)).\n",
    "\n",
    "#### Note: standard deviation shows how different the values are. If it's low, then all values are approximately the same. If it's high, the values are different. If standard deviation of scores is low, then our model is stable.\n",
    "\n",
    "#### Options:\n",
    "- #### 0.16\n",
    "- #### 0.00005\n",
    "- #### 0.005\n",
    "- #### 0.15555"
   ]
  },
  {
   "cell_type": "code",
   "execution_count": 24,
   "id": "22bdb8da",
   "metadata": {},
   "outputs": [],
   "source": [
    "seeds = [0, 1, 2, 3, 4, 5, 6, 7, 8, 9]"
   ]
  },
  {
   "cell_type": "code",
   "execution_count": 25,
   "id": "3f85ece5",
   "metadata": {},
   "outputs": [],
   "source": [
    "def seed_compare(seed_list):\n",
    "    scores = []\n",
    "    for seed in seed_list:\n",
    "        # Create variables to shuffle data set, using seeds from the list given.\n",
    "        idx = np.arange(n)\n",
    "        np.random.seed(seed)\n",
    "        np.random.shuffle(idx)\n",
    "\n",
    "        # Split the original dataset into training, validation, and testing sets.\n",
    "        df_train = df.iloc[idx[:n_train]].copy()\n",
    "        df_val = df.iloc[idx[n_train:n_train + n_val]].copy()\n",
    "        df_test = df.iloc[idx[n_train + n_val:]].copy()\n",
    "\n",
    "        # Reset index for each data set.\n",
    "        df_train = df_train.reset_index(drop=True)\n",
    "        df_val = df_val.reset_index(drop=True)\n",
    "        df_test = df_test.reset_index(drop=True)\n",
    "\n",
    "        # Create target variable for data sets.\n",
    "        y_train = np.log1p(df_train.median_house_value.values)\n",
    "        y_val = np.log1p(df_val.median_house_value.values)\n",
    "        y_test = np.log1p(df_test.median_house_value.values)\n",
    "\n",
    "        # Remove target variable from data sets.\n",
    "        del df_train['median_house_value']\n",
    "        del df_val['median_house_value']\n",
    "        del df_test['median_house_value']\n",
    "    \n",
    "        # Fill in missing values with 0 in validation dataset\n",
    "        X_train = prepare_X(df_train, fill_nulls=0)\n",
    "        w0, w = train_lin_reg(X_train, y_train)\n",
    "\n",
    "        # Validate dataset with testing dataset\n",
    "        X_val = prepare_X(df_val, fill_nulls=0)\n",
    "        y_pred = w0 + X_val.dot(w)\n",
    "\n",
    "        # Compute root mean squared error\n",
    "        rmse_vals = np.round(rmse(y_val, y_pred), 2)\n",
    "        scores.append(rmse_vals)\n",
    "\n",
    "    return scores"
   ]
  },
  {
   "cell_type": "code",
   "execution_count": 26,
   "id": "ffe00751",
   "metadata": {},
   "outputs": [
    {
     "data": {
      "text/plain": [
       "0.005"
      ]
     },
     "execution_count": 26,
     "metadata": {},
     "output_type": "execute_result"
    }
   ],
   "source": [
    "round(np.std(seed_compare(seeds)), 3)"
   ]
  },
  {
   "cell_type": "markdown",
   "id": "1493993d",
   "metadata": {},
   "source": [
    "#### We see that the answer is that the list of seeds gives us a standard deviation of 0.005"
   ]
  },
  {
   "cell_type": "markdown",
   "id": "63d171df",
   "metadata": {},
   "source": [
    "# Question 6:\n",
    "- #### Split the dataset like previously, use seed 9\n",
    "- #### Combine train and validation datasets.\n",
    "- #### FIll the missing values with 0 and train a model with r=0.001.\n",
    "- #### What's the RMSE on the test dataset?\n",
    "\n",
    "#### Options:\n",
    "- #### 0.35\n",
    "- #### 0.135\n",
    "- #### 0.450\n",
    "- #### 0.245"
   ]
  },
  {
   "cell_type": "code",
   "execution_count": 27,
   "id": "beb091bf",
   "metadata": {},
   "outputs": [],
   "source": [
    "def full_train():\n",
    "    # Create variables to shuffle data set, using seeds from the list given.\n",
    "    idx = np.arange(n)\n",
    "    np.random.seed(9)\n",
    "    np.random.shuffle(idx)\n",
    "\n",
    "    # Split the original dataset into training, validation, and testing sets.\n",
    "    df_train = df.iloc[idx[:n_train]].copy()\n",
    "    df_val = df.iloc[idx[n_train:n_train + n_val]].copy()\n",
    "    df_test = df.iloc[idx[n_train + n_val:]].copy()\n",
    "\n",
    "    # Reset index for each data set.\n",
    "    df_train = df_train.reset_index(drop=True)\n",
    "    df_val = df_val.reset_index(drop=True)\n",
    "    df_test = df_test.reset_index(drop=True)\n",
    "\n",
    "    # Create target variable for data sets.\n",
    "    y_train = np.log1p(df_train.median_house_value.values)\n",
    "    y_val = np.log1p(df_val.median_house_value.values)\n",
    "    y_test = np.log1p(df_test.median_house_value.values)\n",
    "\n",
    "    # Remove target variable from data sets.\n",
    "    del df_train['median_house_value']\n",
    "    del df_val['median_house_value']\n",
    "    del df_test['median_house_value']\n",
    "    \n",
    "    # Combine the training and validation datasets\n",
    "    df_full_train = pd.concat([df_train, df_val])\n",
    "    df_full_train = df_full_train.reset_index(drop=True)\n",
    "    y_full_train = np.concatenate([y_train, y_val])\n",
    "    \n",
    "    # Fill in missing values with 0 in full train dataset\n",
    "    X_full_train = prepare_X(df_full_train, fill_nulls=0)\n",
    "    w0, w = train_lin_reg_regularized(X_full_train, y_full_train, r=0.001)\n",
    "\n",
    "    # Validate dataset with testing dataset\n",
    "    X_test = prepare_X(df_test, fill_nulls=0)\n",
    "    y_pred = w0 + X_test.dot(w)\n",
    "\n",
    "    # Compute root mean squared error\n",
    "    rmse_val = np.round(rmse(y_test, y_pred), 2)\n",
    "\n",
    "    return rmse_val"
   ]
  },
  {
   "cell_type": "code",
   "execution_count": 28,
   "id": "158037cb",
   "metadata": {},
   "outputs": [
    {
     "data": {
      "text/plain": [
       "0.35"
      ]
     },
     "execution_count": 28,
     "metadata": {},
     "output_type": "execute_result"
    }
   ],
   "source": [
    "full_train()"
   ]
  },
  {
   "cell_type": "markdown",
   "id": "4fc464a1",
   "metadata": {},
   "source": [
    "#### We see the RMSE on the full train dataset is 0.35"
   ]
  },
  {
   "cell_type": "code",
   "execution_count": null,
   "id": "62d35320",
   "metadata": {},
   "outputs": [],
   "source": []
  }
 ],
 "metadata": {
  "kernelspec": {
   "display_name": "Python 3",
   "language": "python",
   "name": "python3"
  },
  "language_info": {
   "codemirror_mode": {
    "name": "ipython",
    "version": 3
   },
   "file_extension": ".py",
   "mimetype": "text/x-python",
   "name": "python",
   "nbconvert_exporter": "python",
   "pygments_lexer": "ipython3",
   "version": "3.8.8"
  }
 },
 "nbformat": 4,
 "nbformat_minor": 5
}
