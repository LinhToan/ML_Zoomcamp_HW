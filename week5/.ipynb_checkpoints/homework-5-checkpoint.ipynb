{
 "cells": [
  {
   "cell_type": "code",
   "execution_count": 1,
   "id": "60d640b8",
   "metadata": {},
   "outputs": [],
   "source": [
    "import pickle"
   ]
  },
  {
   "cell_type": "code",
   "execution_count": 2,
   "id": "f88d8b56",
   "metadata": {},
   "outputs": [],
   "source": [
    "# You can use the following to save your model:\n",
    "# output_file = f'model_C={C}.bin'\n",
    "# with open(output_file, 'wb') as f_out:\n",
    "#     pickle.dump((dv, model), f_out)"
   ]
  },
  {
   "cell_type": "code",
   "execution_count": 5,
   "id": "0801041d",
   "metadata": {},
   "outputs": [],
   "source": [
    "model1_file = 'model1.bin'\n",
    "dv_file = 'dv.bin'"
   ]
  },
  {
   "cell_type": "code",
   "execution_count": 9,
   "id": "f11bdb75",
   "metadata": {},
   "outputs": [],
   "source": [
    "def load(filename: str):\n",
    "    with open(filename, 'rb') as f_in:\n",
    "        return pickle.load(f_in)"
   ]
  },
  {
   "cell_type": "code",
   "execution_count": 10,
   "id": "191d6836",
   "metadata": {},
   "outputs": [],
   "source": [
    "model = load(model1_file)\n",
    "dv = load(dv_file)"
   ]
  },
  {
   "cell_type": "code",
   "execution_count": 11,
   "id": "44268568",
   "metadata": {},
   "outputs": [],
   "source": [
    "client = {\"reports\": 0, \"share\": 0.001694, \"expenditure\": 0.12, \"owner\": \"yes\"}"
   ]
  },
  {
   "cell_type": "code",
   "execution_count": 13,
   "id": "6d3f949a",
   "metadata": {},
   "outputs": [],
   "source": [
    "X = dv.transform([client])"
   ]
  },
  {
   "cell_type": "code",
   "execution_count": 16,
   "id": "7362daee",
   "metadata": {},
   "outputs": [
    {
     "data": {
      "text/plain": [
       "0.162"
      ]
     },
     "execution_count": 16,
     "metadata": {},
     "output_type": "execute_result"
    }
   ],
   "source": [
    "model.predict_proba(X)[0,1]"
   ]
  },
  {
   "cell_type": "code",
   "execution_count": null,
   "id": "a872312c",
   "metadata": {},
   "outputs": [],
   "source": []
  }
 ],
 "metadata": {
  "kernelspec": {
   "display_name": "Python 3 (ipykernel)",
   "language": "python",
   "name": "python3"
  },
  "language_info": {
   "codemirror_mode": {
    "name": "ipython",
    "version": 3
   },
   "file_extension": ".py",
   "mimetype": "text/x-python",
   "name": "python",
   "nbconvert_exporter": "python",
   "pygments_lexer": "ipython3",
   "version": "3.10.5"
  }
 },
 "nbformat": 4,
 "nbformat_minor": 5
}
