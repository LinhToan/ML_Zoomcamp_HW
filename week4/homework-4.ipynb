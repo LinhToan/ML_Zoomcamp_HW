{
 "cells": [
  {
   "cell_type": "markdown",
   "id": "76d7b804",
   "metadata": {},
   "source": [
    "# Data\n",
    "#### In this homework, we will use the Credit Card Data from the book \"Econometric Analysis\"\n",
    "#### The goal of this homework is to inspect the output of different evaluation metrics by creating a classification model (target column 'card')"
   ]
  },
  {
   "cell_type": "code",
   "execution_count": 1,
   "id": "4fc30b13",
   "metadata": {},
   "outputs": [],
   "source": [
    "import pandas as pd\n",
    "import numpy as np\n",
    "import matplotlib.pyplot as plt\n",
    "from sklearn.model_selection import train_test_split\n",
    "from sklearn.metrics import roc_auc_score\n",
    "from sklearn.linear_model import LogisticRegression\n",
    "from sklearn.feature_extraction import DictVectorizer\n",
    "from sklearn.model_selection import KFold"
   ]
  },
  {
   "cell_type": "code",
   "execution_count": 2,
   "id": "8a473220",
   "metadata": {},
   "outputs": [
    {
     "data": {
      "text/html": [
       "<div>\n",
       "<style scoped>\n",
       "    .dataframe tbody tr th:only-of-type {\n",
       "        vertical-align: middle;\n",
       "    }\n",
       "\n",
       "    .dataframe tbody tr th {\n",
       "        vertical-align: top;\n",
       "    }\n",
       "\n",
       "    .dataframe thead th {\n",
       "        text-align: right;\n",
       "    }\n",
       "</style>\n",
       "<table border=\"1\" class=\"dataframe\">\n",
       "  <thead>\n",
       "    <tr style=\"text-align: right;\">\n",
       "      <th></th>\n",
       "      <th>card</th>\n",
       "      <th>reports</th>\n",
       "      <th>age</th>\n",
       "      <th>income</th>\n",
       "      <th>share</th>\n",
       "      <th>expenditure</th>\n",
       "      <th>owner</th>\n",
       "      <th>selfemp</th>\n",
       "      <th>dependents</th>\n",
       "      <th>months</th>\n",
       "      <th>majorcards</th>\n",
       "      <th>active</th>\n",
       "    </tr>\n",
       "  </thead>\n",
       "  <tbody>\n",
       "    <tr>\n",
       "      <th>0</th>\n",
       "      <td>yes</td>\n",
       "      <td>0</td>\n",
       "      <td>37.66667</td>\n",
       "      <td>4.5200</td>\n",
       "      <td>0.033270</td>\n",
       "      <td>124.983300</td>\n",
       "      <td>yes</td>\n",
       "      <td>no</td>\n",
       "      <td>3</td>\n",
       "      <td>54</td>\n",
       "      <td>1</td>\n",
       "      <td>12</td>\n",
       "    </tr>\n",
       "    <tr>\n",
       "      <th>1</th>\n",
       "      <td>yes</td>\n",
       "      <td>0</td>\n",
       "      <td>33.25000</td>\n",
       "      <td>2.4200</td>\n",
       "      <td>0.005217</td>\n",
       "      <td>9.854167</td>\n",
       "      <td>no</td>\n",
       "      <td>no</td>\n",
       "      <td>3</td>\n",
       "      <td>34</td>\n",
       "      <td>1</td>\n",
       "      <td>13</td>\n",
       "    </tr>\n",
       "    <tr>\n",
       "      <th>2</th>\n",
       "      <td>yes</td>\n",
       "      <td>0</td>\n",
       "      <td>33.66667</td>\n",
       "      <td>4.5000</td>\n",
       "      <td>0.004156</td>\n",
       "      <td>15.000000</td>\n",
       "      <td>yes</td>\n",
       "      <td>no</td>\n",
       "      <td>4</td>\n",
       "      <td>58</td>\n",
       "      <td>1</td>\n",
       "      <td>5</td>\n",
       "    </tr>\n",
       "    <tr>\n",
       "      <th>3</th>\n",
       "      <td>yes</td>\n",
       "      <td>0</td>\n",
       "      <td>30.50000</td>\n",
       "      <td>2.5400</td>\n",
       "      <td>0.065214</td>\n",
       "      <td>137.869200</td>\n",
       "      <td>no</td>\n",
       "      <td>no</td>\n",
       "      <td>0</td>\n",
       "      <td>25</td>\n",
       "      <td>1</td>\n",
       "      <td>7</td>\n",
       "    </tr>\n",
       "    <tr>\n",
       "      <th>4</th>\n",
       "      <td>yes</td>\n",
       "      <td>0</td>\n",
       "      <td>32.16667</td>\n",
       "      <td>9.7867</td>\n",
       "      <td>0.067051</td>\n",
       "      <td>546.503300</td>\n",
       "      <td>yes</td>\n",
       "      <td>no</td>\n",
       "      <td>2</td>\n",
       "      <td>64</td>\n",
       "      <td>1</td>\n",
       "      <td>5</td>\n",
       "    </tr>\n",
       "  </tbody>\n",
       "</table>\n",
       "</div>"
      ],
      "text/plain": [
       "  card  reports       age  income     share  expenditure owner selfemp  \\\n",
       "0  yes        0  37.66667  4.5200  0.033270   124.983300   yes      no   \n",
       "1  yes        0  33.25000  2.4200  0.005217     9.854167    no      no   \n",
       "2  yes        0  33.66667  4.5000  0.004156    15.000000   yes      no   \n",
       "3  yes        0  30.50000  2.5400  0.065214   137.869200    no      no   \n",
       "4  yes        0  32.16667  9.7867  0.067051   546.503300   yes      no   \n",
       "\n",
       "   dependents  months  majorcards  active  \n",
       "0           3      54           1      12  \n",
       "1           3      34           1      13  \n",
       "2           4      58           1       5  \n",
       "3           0      25           1       7  \n",
       "4           2      64           1       5  "
      ]
     },
     "execution_count": 2,
     "metadata": {},
     "output_type": "execute_result"
    }
   ],
   "source": [
    "df_original = pd.read_csv(r'./AER_credit_card_data.csv')\n",
    "df_original.head()"
   ]
  },
  {
   "cell_type": "markdown",
   "id": "ef31ed57",
   "metadata": {},
   "source": [
    "# Preparation\n",
    "- #### Create the target variable by mapping yes to 1 and no to 0\n",
    "- #### Split the dataset into 3 parts: train/validation/test with 60%/20%/20% distribution. Use 'train-test-split' function for that with random_state=1"
   ]
  },
  {
   "cell_type": "code",
   "execution_count": 3,
   "id": "12b3eda2",
   "metadata": {},
   "outputs": [
    {
     "data": {
      "text/plain": [
       "card           0\n",
       "reports        0\n",
       "age            0\n",
       "income         0\n",
       "share          0\n",
       "expenditure    0\n",
       "owner          0\n",
       "selfemp        0\n",
       "dependents     0\n",
       "months         0\n",
       "majorcards     0\n",
       "active         0\n",
       "dtype: int64"
      ]
     },
     "execution_count": 3,
     "metadata": {},
     "output_type": "execute_result"
    }
   ],
   "source": [
    "# First we will need to see which column has null values.\n",
    "df_original.isnull().sum()"
   ]
  },
  {
   "cell_type": "code",
   "execution_count": 4,
   "id": "c2956ad8",
   "metadata": {},
   "outputs": [
    {
     "data": {
      "text/html": [
       "<div>\n",
       "<style scoped>\n",
       "    .dataframe tbody tr th:only-of-type {\n",
       "        vertical-align: middle;\n",
       "    }\n",
       "\n",
       "    .dataframe tbody tr th {\n",
       "        vertical-align: top;\n",
       "    }\n",
       "\n",
       "    .dataframe thead th {\n",
       "        text-align: right;\n",
       "    }\n",
       "</style>\n",
       "<table border=\"1\" class=\"dataframe\">\n",
       "  <thead>\n",
       "    <tr style=\"text-align: right;\">\n",
       "      <th></th>\n",
       "      <th>card</th>\n",
       "      <th>reports</th>\n",
       "      <th>age</th>\n",
       "      <th>income</th>\n",
       "      <th>share</th>\n",
       "      <th>expenditure</th>\n",
       "      <th>owner</th>\n",
       "      <th>selfemp</th>\n",
       "      <th>dependents</th>\n",
       "      <th>months</th>\n",
       "      <th>majorcards</th>\n",
       "      <th>active</th>\n",
       "    </tr>\n",
       "  </thead>\n",
       "  <tbody>\n",
       "    <tr>\n",
       "      <th>0</th>\n",
       "      <td>1</td>\n",
       "      <td>0</td>\n",
       "      <td>37.66667</td>\n",
       "      <td>4.5200</td>\n",
       "      <td>0.033270</td>\n",
       "      <td>124.983300</td>\n",
       "      <td>yes</td>\n",
       "      <td>no</td>\n",
       "      <td>3</td>\n",
       "      <td>54</td>\n",
       "      <td>1</td>\n",
       "      <td>12</td>\n",
       "    </tr>\n",
       "    <tr>\n",
       "      <th>1</th>\n",
       "      <td>1</td>\n",
       "      <td>0</td>\n",
       "      <td>33.25000</td>\n",
       "      <td>2.4200</td>\n",
       "      <td>0.005217</td>\n",
       "      <td>9.854167</td>\n",
       "      <td>no</td>\n",
       "      <td>no</td>\n",
       "      <td>3</td>\n",
       "      <td>34</td>\n",
       "      <td>1</td>\n",
       "      <td>13</td>\n",
       "    </tr>\n",
       "    <tr>\n",
       "      <th>2</th>\n",
       "      <td>1</td>\n",
       "      <td>0</td>\n",
       "      <td>33.66667</td>\n",
       "      <td>4.5000</td>\n",
       "      <td>0.004156</td>\n",
       "      <td>15.000000</td>\n",
       "      <td>yes</td>\n",
       "      <td>no</td>\n",
       "      <td>4</td>\n",
       "      <td>58</td>\n",
       "      <td>1</td>\n",
       "      <td>5</td>\n",
       "    </tr>\n",
       "    <tr>\n",
       "      <th>3</th>\n",
       "      <td>1</td>\n",
       "      <td>0</td>\n",
       "      <td>30.50000</td>\n",
       "      <td>2.5400</td>\n",
       "      <td>0.065214</td>\n",
       "      <td>137.869200</td>\n",
       "      <td>no</td>\n",
       "      <td>no</td>\n",
       "      <td>0</td>\n",
       "      <td>25</td>\n",
       "      <td>1</td>\n",
       "      <td>7</td>\n",
       "    </tr>\n",
       "    <tr>\n",
       "      <th>4</th>\n",
       "      <td>1</td>\n",
       "      <td>0</td>\n",
       "      <td>32.16667</td>\n",
       "      <td>9.7867</td>\n",
       "      <td>0.067051</td>\n",
       "      <td>546.503300</td>\n",
       "      <td>yes</td>\n",
       "      <td>no</td>\n",
       "      <td>2</td>\n",
       "      <td>64</td>\n",
       "      <td>1</td>\n",
       "      <td>5</td>\n",
       "    </tr>\n",
       "  </tbody>\n",
       "</table>\n",
       "</div>"
      ],
      "text/plain": [
       "   card  reports       age  income     share  expenditure owner selfemp  \\\n",
       "0     1        0  37.66667  4.5200  0.033270   124.983300   yes      no   \n",
       "1     1        0  33.25000  2.4200  0.005217     9.854167    no      no   \n",
       "2     1        0  33.66667  4.5000  0.004156    15.000000   yes      no   \n",
       "3     1        0  30.50000  2.5400  0.065214   137.869200    no      no   \n",
       "4     1        0  32.16667  9.7867  0.067051   546.503300   yes      no   \n",
       "\n",
       "   dependents  months  majorcards  active  \n",
       "0           3      54           1      12  \n",
       "1           3      34           1      13  \n",
       "2           4      58           1       5  \n",
       "3           0      25           1       7  \n",
       "4           2      64           1       5  "
      ]
     },
     "execution_count": 4,
     "metadata": {},
     "output_type": "execute_result"
    }
   ],
   "source": [
    "# Since the dataset doesn't have any null values, we'll go straight to converting the card column to 1 and 0, \n",
    "# then split it into tran/validation/test.\n",
    "\n",
    "df_original['card'] = df_original['card'].map(lambda x: int(x == 'yes'))\n",
    "df_original.head()"
   ]
  },
  {
   "cell_type": "code",
   "execution_count": 5,
   "id": "e1dd9728",
   "metadata": {},
   "outputs": [],
   "source": [
    "df_full_train, df_test = train_test_split(df_original, test_size=0.2, random_state=1)\n",
    "df_train, df_val = train_test_split(df_full_train, test_size=0.25, random_state=1)\n",
    "\n",
    "df_train = df_train.reset_index(drop=True)\n",
    "df_val = df_val.reset_index(drop=True)\n",
    "df_test = df_test.reset_index(drop=True)\n",
    "\n",
    "y_train = df_train.card.values\n",
    "y_val = df_val.card.values\n",
    "y_test = df_test.card.values\n",
    "\n",
    "del df_train['card']\n",
    "del df_val['card']\n",
    "del df_test['card']"
   ]
  },
  {
   "cell_type": "markdown",
   "id": "148adcd4",
   "metadata": {},
   "source": [
    "# Question 1\n",
    "#### ROC AUC could be used to evaluate feature importance of numerical variables. Let's do that. For each numerical variable, use it as score and compute AUC with the 'card' variable. Use the training dataset. \n",
    "#### If your AUC < 0.5, invert this variable by making it by putting a '-' in front such as `\"-df_train['expenditure']\"`. AUC can go below 0.5 if the variable is negatively correlated with the target variable. You can change the direction of the correlation by negatin this variable.\n",
    "#### Which numerical variable has the highest AUC?\n",
    "- #### reports\n",
    "- #### dependents\n",
    "- #### active\n",
    "- #### share"
   ]
  },
  {
   "cell_type": "code",
   "execution_count": 6,
   "id": "cd9c9029",
   "metadata": {},
   "outputs": [
    {
     "data": {
      "text/plain": [
       "reports          int64\n",
       "age            float64\n",
       "income         float64\n",
       "share          float64\n",
       "expenditure    float64\n",
       "owner           object\n",
       "selfemp         object\n",
       "dependents       int64\n",
       "months           int64\n",
       "majorcards       int64\n",
       "active           int64\n",
       "dtype: object"
      ]
     },
     "execution_count": 6,
     "metadata": {},
     "output_type": "execute_result"
    }
   ],
   "source": [
    "# Check the data type of each column\n",
    "df_train.dtypes"
   ]
  },
  {
   "cell_type": "code",
   "execution_count": 7,
   "id": "05ea4cd6",
   "metadata": {},
   "outputs": [
    {
     "data": {
      "text/plain": [
       "['reports',\n",
       " 'age',\n",
       " 'income',\n",
       " 'share',\n",
       " 'expenditure',\n",
       " 'dependents',\n",
       " 'months',\n",
       " 'majorcards',\n",
       " 'active']"
      ]
     },
     "execution_count": 7,
     "metadata": {},
     "output_type": "execute_result"
    }
   ],
   "source": [
    "# Get the numerical columns, which in this case we can use columns that aren't object types.\n",
    "numerical_columns = list(df_train.dtypes[df_train.dtypes !='object'].index)\n",
    "numerical_columns"
   ]
  },
  {
   "cell_type": "code",
   "execution_count": 8,
   "id": "e0639b1d",
   "metadata": {},
   "outputs": [],
   "source": [
    "def compare_auc(tol, cols):\n",
    "    auc_dict = {}\n",
    "    choices = ['reports', 'dependents', 'active', 'share']\n",
    "    for c in cols:\n",
    "        auc = roc_auc_score(y_train, df_train[c])\n",
    "        if auc < tol:\n",
    "            auc = roc_auc_score(y_train, -df_train[c])\n",
    "        print(f'The feature {c} yields an AUC of {auc.round(3)}')\n",
    "        if c in choices:\n",
    "            auc_dict[c] = auc\n",
    "        \n",
    "    max_key = max(auc_dict, key=auc_dict.get)\n",
    "    max_value = auc_dict[max_key].round(3)\n",
    "    ans = 'Out of the choices given, {} yields the highest AUC score with {}'.format(max_key, max_value)\n",
    "    return ans"
   ]
  },
  {
   "cell_type": "code",
   "execution_count": 9,
   "id": "05eed745",
   "metadata": {},
   "outputs": [
    {
     "name": "stdout",
     "output_type": "stream",
     "text": [
      "The feature reports yields an AUC of 0.717\n",
      "The feature age yields an AUC of 0.524\n",
      "The feature income yields an AUC of 0.591\n",
      "The feature share yields an AUC of 0.989\n",
      "The feature expenditure yields an AUC of 0.991\n",
      "The feature dependents yields an AUC of 0.533\n",
      "The feature months yields an AUC of 0.529\n",
      "The feature majorcards yields an AUC of 0.534\n",
      "The feature active yields an AUC of 0.604\n"
     ]
    },
    {
     "data": {
      "text/plain": [
       "'Out of the choices given, share yields the highest AUC score with 0.989'"
      ]
     },
     "execution_count": 9,
     "metadata": {},
     "output_type": "execute_result"
    }
   ],
   "source": [
    "tolerance = 0.5\n",
    "\n",
    "compare_auc(tolerance, numerical_columns)"
   ]
  },
  {
   "cell_type": "markdown",
   "id": "5eb4a3fc",
   "metadata": {},
   "source": [
    "# Training the model\n",
    "#### From now on, use these columns only: `[\"reports\", \"age\", \"income\", \"share\", \"expenditure\", \"dependents\", \"months\", \"majorcards\", \"active\", \"owner\", \"selfemp\"]`\n",
    "#### Apply one-hot-encoding using `DictVectorizer` and train the logistic regression with these parameters\n",
    "`LogisticRegression(solver='liblinear', C=1.0, max_iter=1000)`"
   ]
  },
  {
   "cell_type": "code",
   "execution_count": 10,
   "id": "84133b73",
   "metadata": {},
   "outputs": [],
   "source": [
    "columns = [\"reports\", \"age\", \"income\", \"share\", \"expenditure\", \"dependents\", \"months\", \"majorcards\", \"active\", \"owner\", \"selfemp\"]\n",
    "\n",
    "dv = DictVectorizer(sparse=False)\n",
    "\n",
    "train_dict = df_train[columns].to_dict(orient='records')\n",
    "X_train = dv.fit_transform(train_dict)\n",
    "\n",
    "model = LogisticRegression(solver='liblinear', C=1.0, max_iter=1000)\n",
    "model.fit(X_train, y_train)\n",
    "\n",
    "val_dict = df_val[columns].to_dict(orient='records')\n",
    "X_val = dv.transform(val_dict)\n",
    "\n",
    "y_pred = model.predict_proba(X_val)[:, 1]"
   ]
  },
  {
   "cell_type": "markdown",
   "id": "087bfe90",
   "metadata": {},
   "source": [
    "# Question 2\n",
    "#### What's the AUC of this model on the validation dataset? (round to 3 digits)\n",
    "- #### 0.615\n",
    "- #### 0.515\n",
    "- #### 0.715\n",
    "- #### 0.995"
   ]
  },
  {
   "cell_type": "code",
   "execution_count": 11,
   "id": "dee5c648",
   "metadata": {},
   "outputs": [
    {
     "data": {
      "text/plain": [
       "0.995"
      ]
     },
     "execution_count": 11,
     "metadata": {},
     "output_type": "execute_result"
    }
   ],
   "source": [
    "roc_auc_score(y_val, y_pred).round(3)"
   ]
  },
  {
   "cell_type": "markdown",
   "id": "37852274",
   "metadata": {},
   "source": [
    "#### Our logistic regression model yields an ROC AUC score of 0.995"
   ]
  },
  {
   "cell_type": "markdown",
   "id": "18147c47",
   "metadata": {},
   "source": [
    "# Question 3\n",
    "#### Now let's compute the precision and recall for our model\n",
    "- #### Evaluate the model on the validation dataset on all thresholds from 0.0 to 1.0 with step 0.01\n",
    "- #### For each threshold, compute precision and recall\n",
    "- #### Plot them\n",
    "#### At which threshold do precision and recall intersect?\n",
    "- #### 0.1\n",
    "- #### 0.3\n",
    "- #### 0.6\n",
    "- #### 0.8 "
   ]
  },
  {
   "cell_type": "code",
   "execution_count": 12,
   "id": "491e3012",
   "metadata": {},
   "outputs": [],
   "source": [
    "def confusion_matrix(tols):\n",
    "    scores = []\n",
    "\n",
    "    for t in tols:\n",
    "        actual_pos = (y_val == 1)\n",
    "        actual_neg = (y_val == 0)\n",
    "\n",
    "        predict_pos = (y_pred >= t)\n",
    "        predict_neg = (y_pred < t)\n",
    "\n",
    "        tp = (predict_pos & actual_pos).sum()\n",
    "        tn = (predict_neg & actual_neg).sum()\n",
    "\n",
    "        fp = (predict_pos & actual_neg).sum()\n",
    "        fn = (predict_neg & actual_pos).sum()\n",
    "\n",
    "        scores.append((t, tp, fp, fn, tn))\n",
    "    \n",
    "    cols = ['threshold', 'tp', 'fp', 'fn', 'tn']\n",
    "    df_scores = pd.DataFrame(scores, columns=cols)\n",
    "\n",
    "    df_scores['precision'] = df_scores.tp / (df_scores.tp + df_scores.fp)\n",
    "    df_scores['recall'] = df_scores.tp / (df_scores.tp + df_scores.fn)\n",
    "    \n",
    "    return df_scores"
   ]
  },
  {
   "cell_type": "code",
   "execution_count": 35,
   "id": "afb6b557",
   "metadata": {},
   "outputs": [],
   "source": [
    "thresholds = np.linspace(0, 1, 101)\n",
    "\n",
    "df_scores = confusion_matrix(thresholds)\n",
    "df_scores[::10]"
   ]
  },
  {
   "cell_type": "code",
   "execution_count": 14,
   "id": "7c9e3908",
   "metadata": {},
   "outputs": [
    {
     "data": {
      "text/plain": [
       "<matplotlib.legend.Legend at 0x18a3cecde80>"
      ]
     },
     "execution_count": 14,
     "metadata": {},
     "output_type": "execute_result"
    },
    {
     "data": {
      "image/png": "[encoded data removed]",
      "text/plain": [
       "<Figure size 432x288 with 1 Axes>"
      ]
     },
     "metadata": {
      "needs_background": "light"
     },
     "output_type": "display_data"
    }
   ],
   "source": [
    "plt.plot(df_scores.threshold, df_scores.precision, label='precision')\n",
    "plt.plot(df_scores.threshold, df_scores.recall, label='recall')\n",
    "plt.legend()"
   ]
  },
  {
   "cell_type": "markdown",
   "id": "6566b1e6",
   "metadata": {},
   "source": [
    "#### It looks like the precision and recall scores intersect at a threshold of about 0.3"
   ]
  },
  {
   "cell_type": "markdown",
   "id": "82bad249",
   "metadata": {},
   "source": [
    "# Question 4\n",
    "#### Precision and recall are conflicting - when one increases, the other decreases. That's why they are often combined into the F1 score - a metric that takes into account both. The formula for computing F1 is: F1 = 2(P*R / (P+R))\n",
    "#### Let's compute F1 for all thresholds in [0, 1] with increment 0.01 using the valiation dataset. At which threshold is F1 maximal?\n",
    "- #### 0.1\n",
    "- #### 0.4\n",
    "- #### 0.6\n",
    "- #### 0.7"
   ]
  },
  {
   "cell_type": "markdown",
   "id": "3cffd08f",
   "metadata": {},
   "source": [
    "#### To do this we will write a function that takes in a subset of df_scores that has thresholds, precision scores, and recall scores, then calculates the F1 score for each threshold and its respective precision and recall."
   ]
  },
  {
   "cell_type": "code",
   "execution_count": 15,
   "id": "ef540342",
   "metadata": {},
   "outputs": [],
   "source": [
    "def calculate_F1(df):\n",
    "    F1_scores = {}\n",
    "    for row in df.itertuples():\n",
    "        F1 = (2 * row[2] * row[3]) / (row[2] + row[3])\n",
    "        F1_scores[row[1]] = F1\n",
    "    max_tol = max(F1_scores, key=F1_scores.get)\n",
    "    max_F1 = F1_scores[max_tol]\n",
    "    ans = 'A threshold of {} yields the highest F1 score with {}'.format(max_tol, max_F1)\n",
    "    plt.plot(F1_scores.keys(), F1_scores.values(), label='F1 scores')\n",
    "    return ans"
   ]
  },
  {
   "cell_type": "code",
   "execution_count": 16,
   "id": "d25bee96",
   "metadata": {},
   "outputs": [
    {
     "data": {
      "text/plain": [
       "'A threshold of 0.35000000000000003 yields the highest F1 score with 0.9832134292565947'"
      ]
     },
     "execution_count": 16,
     "metadata": {},
     "output_type": "execute_result"
    },
    {
     "data": {
      "image/png": "[encoded data removed]",
      "text/plain": [
       "<Figure size 432x288 with 1 Axes>"
      ]
     },
     "metadata": {
      "needs_background": "light"
     },
     "output_type": "display_data"
    }
   ],
   "source": [
    "F1_df = df_scores[['threshold', 'precision', 'recall']]\n",
    "calculate_F1(F1_df)"
   ]
  },
  {
   "cell_type": "markdown",
   "id": "ab67c003",
   "metadata": {},
   "source": [
    "#### Given the choices in Question 4, we will say a threshold of 0.4 yields the highest F1 score."
   ]
  },
  {
   "cell_type": "markdown",
   "id": "ef7215ff",
   "metadata": {},
   "source": [
    "# Question 5\n",
    "#### Use the `KFold` class from Scikit-Learn to evaluate our model on 5 different folds: `KFold(n_splits=5, shuffle=True, random_state=1)`\n",
    "- #### Iterate over the different folds of `df_full_train`\n",
    "- #### Split the data into train and validation\n",
    "- #### Train the model on train with these parameters: `LogisticRegression(solver='liblinear', C=1.0, max_iter=1000)`\n",
    "- #### Use AUC to evaluate the model on validation.\n",
    "#### How large is standard deviation of the AUC scores across different folds?\n",
    "- #### 0.003\n",
    "- #### 0.014\n",
    "- #### 0.09\n",
    "- #### 0.24"
   ]
  },
  {
   "cell_type": "code",
   "execution_count": 17,
   "id": "ead2f901",
   "metadata": {},
   "outputs": [],
   "source": [
    "def train(df, y, c):   \n",
    "    dicts = df[columns].to_dict(orient='records')\n",
    "    \n",
    "    dv = DictVectorizer(sparse=False)\n",
    "    X_train = dv.fit_transform(dicts)\n",
    "    \n",
    "    model = LogisticRegression(solver='liblinear', C=c, max_iter=1000)\n",
    "    model.fit(X_train, y)\n",
    "    \n",
    "    return dv, model"
   ]
  },
  {
   "cell_type": "code",
   "execution_count": 18,
   "id": "1d2b1005",
   "metadata": {},
   "outputs": [],
   "source": [
    "def predict(df, dv, model):\n",
    "    dicts = df[columns].to_dict(orient='records')\n",
    "    \n",
    "    X = dv.transform(dicts)\n",
    "    y_pred = model.predict_proba(X)[:, 1]\n",
    "    \n",
    "    return y_pred"
   ]
  },
  {
   "cell_type": "code",
   "execution_count": 19,
   "id": "fd3fd037",
   "metadata": {},
   "outputs": [],
   "source": [
    "def analyze_kfold(df, kfold):\n",
    "    scores = []\n",
    "    \n",
    "    df_full_train, df_test = train_test_split(df, test_size=0.2, random_state=1)\n",
    "\n",
    "    df_full_train = df_full_train.reset_index(drop=True)\n",
    "    df_test = df_test.reset_index(drop=True)\n",
    "    \n",
    "    for train_idx, val_idx in kfold.split(df_full_train):\n",
    "        df_train = df_full_train.iloc[train_idx]\n",
    "        df_val = df_full_train.iloc[val_idx]\n",
    "        \n",
    "        y_train = df_train.card.values\n",
    "        y_val = df_val.card.values\n",
    "        \n",
    "        dv, model = train(df_train, y_train, 1.0)\n",
    "        y_pred = predict(df_val, dv, model)\n",
    "        \n",
    "        auc = roc_auc_score(y_val, y_pred)\n",
    "        scores.append(auc)\n",
    "        \n",
    "    ans = 'The mean and std of the AUC across different folds are %.3f +- %.3f' % (np.mean(scores), np.std(scores))\n",
    "    return ans"
   ]
  },
  {
   "cell_type": "code",
   "execution_count": 20,
   "id": "9cc67071",
   "metadata": {},
   "outputs": [],
   "source": [
    "kfold_split = KFold(n_splits=5, shuffle=True, random_state=1)"
   ]
  },
  {
   "cell_type": "code",
   "execution_count": 21,
   "id": "3c74f773",
   "metadata": {},
   "outputs": [
    {
     "data": {
      "text/plain": [
       "'The mean and std of the AUC across different folds are 0.996 +- 0.003'"
      ]
     },
     "execution_count": 21,
     "metadata": {},
     "output_type": "execute_result"
    }
   ],
   "source": [
    "analyze_kfold(df_original, kfold_split)"
   ]
  },
  {
   "cell_type": "markdown",
   "id": "6565be9d",
   "metadata": {},
   "source": [
    "# Question 6\n",
    "#### Now let's use 5-fold cross-validation to find the best parameter C\n",
    "- #### Iterate over the following values: `[0.01, 0.1, 1, 10]`\n",
    "- #### Initialize `KFold` with the same paramters as previously\n",
    "- #### Use these parameters for the model: `LogisticRegression(solver='liblinear', C=C, max_iter=1000)`\n",
    "- #### Compute the mean and std (round to 3 decimal digits)\n",
    "\n",
    "#### Which C leads to the best mean score? If you have ties, select the score with the lowest std and smallest C."
   ]
  },
  {
   "cell_type": "code",
   "execution_count": 22,
   "id": "2d4211aa",
   "metadata": {},
   "outputs": [],
   "source": [
    "def analyze_kfold_c(c_list):\n",
    "    for C in c_list:\n",
    "        kfold = KFold(n_splits=5, shuffle=True, random_state=1)\n",
    "\n",
    "        scores = []\n",
    "\n",
    "        for train_idx, val_idx in kfold.split(df_full_train):\n",
    "            df_train = df_full_train.iloc[train_idx]\n",
    "            df_val = df_full_train.iloc[val_idx]\n",
    "\n",
    "            y_train = df_train.card.values\n",
    "            y_val = df_val.card.values\n",
    "\n",
    "            dv, model = train(df_train, y_train, C)\n",
    "            y_pred = predict(df_val, dv, model)\n",
    "\n",
    "            auc = roc_auc_score(y_val, y_pred)\n",
    "            scores.append(auc)\n",
    "            \n",
    "        print('C=%s gives us a mean and std of %.3f +- %.3f' % (C, np.mean(scores), np.std(scores)))"
   ]
  },
  {
   "cell_type": "code",
   "execution_count": 23,
   "id": "19e6850e",
   "metadata": {},
   "outputs": [
    {
     "name": "stdout",
     "output_type": "stream",
     "text": [
      "C=0.01 gives us a mean and std of 0.992 +- 0.006\n",
      "C=0.1 gives us a mean and std of 0.995 +- 0.004\n",
      "C=1 gives us a mean and std of 0.996 +- 0.003\n",
      "C=10 gives us a mean and std of 0.996 +- 0.003\n"
     ]
    }
   ],
   "source": [
    "analyze_kfold_c([0.01, 0.1, 1, 10])"
   ]
  },
  {
   "cell_type": "markdown",
   "id": "8e49363c",
   "metadata": {},
   "source": [
    "#### We see that both 1 and 10 give the highest mean of 0.996 and both have the same std of 0.003, so we will go with C=1 as our answer."
   ]
  },
  {
   "cell_type": "code",
   "execution_count": null,
   "id": "5fa00527",
   "metadata": {},
   "outputs": [],
   "source": []
  }
 ],
 "metadata": {
  "kernelspec": {
   "display_name": "Python 3",
   "language": "python",
   "name": "python3"
  },
  "language_info": {
   "codemirror_mode": {
    "name": "ipython",
    "version": 3
   },
   "file_extension": ".py",
   "mimetype": "text/x-python",
   "name": "python",
   "nbconvert_exporter": "python",
   "pygments_lexer": "ipython3",
   "version": "3.8.8"
  }
 },
 "nbformat": 4,
 "nbformat_minor": 5
}
